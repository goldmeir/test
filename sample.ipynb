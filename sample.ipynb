{
 "cells": [
  {
   "cell_type": "markdown",
   "id": "3507e491-ffd7-4476-a3d5-27ebcaf3210d",
   "metadata": {},
   "source": [
    "# Test"
   ]
  },
  {
   "cell_type": "markdown",
   "id": "152aafd4-9887-4252-9966-d532ac50ffdc",
   "metadata": {},
   "source": [
    "Here is a mix `1+1`"
   ]
  },
  {
   "cell_type": "code",
   "execution_count": 3,
   "id": "cf17e37b-26ad-45d3-b836-d964a7ec2d1d",
   "metadata": {},
   "outputs": [
    {
     "data": {
      "text/plain": [
       "2"
      ]
     },
     "execution_count": 3,
     "metadata": {},
     "output_type": "execute_result"
    }
   ],
   "source": [
    "1+1"
   ]
  },
  {
   "cell_type": "code",
   "execution_count": 4,
   "id": "9ff53462-f864-4687-b436-c1df9fa8b0f1",
   "metadata": {},
   "outputs": [],
   "source": [
    "from numpy import *"
   ]
  },
  {
   "cell_type": "markdown",
   "id": "3e03d515-08c7-45c0-8acf-7a2e1e100600",
   "metadata": {},
   "source": [
    "calclate a function `sin:`"
   ]
  },
  {
   "cell_type": "code",
   "execution_count": 5,
   "id": "144d2a8f-a7b4-4a54-ad1e-30d55c4f238e",
   "metadata": {},
   "outputs": [
    {
     "data": {
      "text/plain": [
       "array([0.84147098, 1.        ])"
      ]
     },
     "execution_count": 5,
     "metadata": {},
     "output_type": "execute_result"
    }
   ],
   "source": [
    "a = array([1.0, pi/2])\n",
    "sin(a)"
   ]
  },
  {
   "cell_type": "code",
   "execution_count": null,
   "id": "98b319cc-c289-47b8-bb3d-34cf0d88ec64",
   "metadata": {},
   "outputs": [],
   "source": []
  }
 ],
 "metadata": {
  "kernelspec": {
   "display_name": "Python 3 (ipykernel)",
   "language": "python",
   "name": "python3"
  },
  "language_info": {
   "codemirror_mode": {
    "name": "ipython",
    "version": 3
   },
   "file_extension": ".py",
   "mimetype": "text/x-python",
   "name": "python",
   "nbconvert_exporter": "python",
   "pygments_lexer": "ipython3",
   "version": "3.9.13"
  }
 },
 "nbformat": 4,
 "nbformat_minor": 5
}
